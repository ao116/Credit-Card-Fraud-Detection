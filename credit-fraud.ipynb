{
 "cells": [
  {
   "cell_type": "markdown",
   "metadata": {},
   "source": [
    "# 1. Necessary imports and display settings"
   ]
  },
  {
   "cell_type": "code",
   "execution_count": 1,
   "metadata": {},
   "outputs": [],
   "source": [
    "import warnings\n",
    "warnings.simplefilter(action='ignore', category=FutureWarning)\n",
    "\n",
    "# Common libraries\n",
    "import numpy as np\n",
    "import pandas as pd\n",
    "display_settings = {\n",
    "    'max_rows': 7,\n",
    "    'max_columns': 7,\n",
    "    'precision': 2\n",
    "}\n",
    "for op, value in display_settings.items():\n",
    "    pd.set_option(\"display.{}\".format(op), value)\n",
    "\n",
    "# Visualization tools\n",
    "import matplotlib.pyplot as plt\n",
    "import seaborn as sns\n",
    "plt.style.use('ggplot')\n",
    "plt.rcParams.update({'font.size': 4})\n",
    "plt.rcParams['figure.dpi'] = 300\n",
    "plt.rcParams['savefig.dpi'] = 300\n",
    "plt.rcParams['axes.spines.right'] = False\n",
    "plt.rcParams['axes.spines.top'] = False\n",
    "\n",
    "# Estimators\n",
    "from sklearn.cluster import KMeans\n",
    "from sklearn.svm import SVC\n",
    "\n",
    "# Preprocessing\n",
    "from sklearn.model_selection import GridSearchCV\n",
    "from sklearn.preprocessing import MinMaxScaler\n",
    "from sklearn.ensemble import IsolationForest\n",
    "from collections import Counter\n",
    "from imblearn.under_sampling import *\n",
    "from imblearn.over_sampling import SMOTE\n",
    "from sklearn.model_selection import train_test_split\n",
    "\n",
    "# Metrics\n",
    "from sklearn import metrics"
   ]
  },
  {
   "cell_type": "markdown",
   "metadata": {},
   "source": [
    "# 2. Preprocessing"
   ]
  },
  {
   "cell_type": "markdown",
   "metadata": {},
   "source": [
    "## 2.1 Loading the data"
   ]
  },
  {
   "cell_type": "code",
   "execution_count": 2,
   "metadata": {},
   "outputs": [
    {
     "data": {
      "text/html": [
       "<div>\n",
       "<style scoped>\n",
       "    .dataframe tbody tr th:only-of-type {\n",
       "        vertical-align: middle;\n",
       "    }\n",
       "\n",
       "    .dataframe tbody tr th {\n",
       "        vertical-align: top;\n",
       "    }\n",
       "\n",
       "    .dataframe thead th {\n",
       "        text-align: right;\n",
       "    }\n",
       "</style>\n",
       "<table border=\"1\" class=\"dataframe\">\n",
       "  <thead>\n",
       "    <tr style=\"text-align: right;\">\n",
       "      <th></th>\n",
       "      <th>Time</th>\n",
       "      <th>V1</th>\n",
       "      <th>V2</th>\n",
       "      <th>...</th>\n",
       "      <th>V28</th>\n",
       "      <th>Amount</th>\n",
       "      <th>Class</th>\n",
       "    </tr>\n",
       "  </thead>\n",
       "  <tbody>\n",
       "    <tr>\n",
       "      <th>0</th>\n",
       "      <td>0.0</td>\n",
       "      <td>-1.36</td>\n",
       "      <td>-0.07</td>\n",
       "      <td>...</td>\n",
       "      <td>-0.02</td>\n",
       "      <td>149.62</td>\n",
       "      <td>0</td>\n",
       "    </tr>\n",
       "    <tr>\n",
       "      <th>1</th>\n",
       "      <td>0.0</td>\n",
       "      <td>1.19</td>\n",
       "      <td>0.27</td>\n",
       "      <td>...</td>\n",
       "      <td>0.01</td>\n",
       "      <td>2.69</td>\n",
       "      <td>0</td>\n",
       "    </tr>\n",
       "    <tr>\n",
       "      <th>2</th>\n",
       "      <td>1.0</td>\n",
       "      <td>-1.36</td>\n",
       "      <td>-1.34</td>\n",
       "      <td>...</td>\n",
       "      <td>-0.06</td>\n",
       "      <td>378.66</td>\n",
       "      <td>0</td>\n",
       "    </tr>\n",
       "    <tr>\n",
       "      <th>3</th>\n",
       "      <td>1.0</td>\n",
       "      <td>-0.97</td>\n",
       "      <td>-0.19</td>\n",
       "      <td>...</td>\n",
       "      <td>0.06</td>\n",
       "      <td>123.50</td>\n",
       "      <td>0</td>\n",
       "    </tr>\n",
       "    <tr>\n",
       "      <th>4</th>\n",
       "      <td>2.0</td>\n",
       "      <td>-1.16</td>\n",
       "      <td>0.88</td>\n",
       "      <td>...</td>\n",
       "      <td>0.22</td>\n",
       "      <td>69.99</td>\n",
       "      <td>0</td>\n",
       "    </tr>\n",
       "  </tbody>\n",
       "</table>\n",
       "<p>5 rows × 31 columns</p>\n",
       "</div>"
      ],
      "text/plain": [
       "   Time    V1    V2  ...   V28  Amount  Class\n",
       "0   0.0 -1.36 -0.07  ... -0.02  149.62      0\n",
       "1   0.0  1.19  0.27  ...  0.01    2.69      0\n",
       "2   1.0 -1.36 -1.34  ... -0.06  378.66      0\n",
       "3   1.0 -0.97 -0.19  ...  0.06  123.50      0\n",
       "4   2.0 -1.16  0.88  ...  0.22   69.99      0\n",
       "\n",
       "[5 rows x 31 columns]"
      ]
     },
     "execution_count": 2,
     "metadata": {},
     "output_type": "execute_result"
    }
   ],
   "source": [
    "df = pd.read_csv(\"../dataset/creditcard.csv\")\n",
    "df.head(5)"
   ]
  },
  {
   "cell_type": "markdown",
   "metadata": {},
   "source": [
    "Creating 80/20 split of dataset and also scaling the features."
   ]
  },
  {
   "cell_type": "code",
   "execution_count": 3,
   "metadata": {},
   "outputs": [],
   "source": [
    "samples_untouched = df.drop(columns='Class')\n",
    "labels_untouched = df['Class'].ravel()"
   ]
  },
  {
   "cell_type": "code",
   "execution_count": 4,
   "metadata": {},
   "outputs": [],
   "source": [
    "scaler = MinMaxScaler(feature_range=(-1,1))\n",
    "X_train, X_test, y_train, y_test = train_test_split(samples_untouched, labels_untouched, test_size=0.2, random_state=8)\n",
    "features = X_train.columns\n",
    "X_train = scaler.fit_transform(X_train)\n",
    "X_train = pd.DataFrame(X_train, columns=features)\n",
    "X_test = scaler.transform(X_test)\n",
    "X_test = pd.DataFrame(X_test, columns=features)\n",
    "\n",
    "# Used in case of outlier removal\n",
    "train_df = pd.concat([X_train, pd.DataFrame(y_train, columns=['Class'])], axis=1)\n",
    "neg_samples = train_df.loc[train_df['Class'] == 0]\n",
    "pos_samples = train_df.loc[train_df['Class'] == 1]"
   ]
  },
  {
   "cell_type": "markdown",
   "metadata": {},
   "source": [
    "## 2.2 Exploring the dataset"
   ]
  },
  {
   "cell_type": "markdown",
   "metadata": {},
   "source": [
    "**Finding 1**: There are no missing values in the dataset."
   ]
  },
  {
   "cell_type": "code",
   "execution_count": 6,
   "metadata": {},
   "outputs": [
    {
     "data": {
      "text/plain": [
       "Time      0\n",
       "V1        0\n",
       "V2        0\n",
       "         ..\n",
       "V27       0\n",
       "V28       0\n",
       "Amount    0\n",
       "Length: 30, dtype: int64"
      ]
     },
     "execution_count": 6,
     "metadata": {},
     "output_type": "execute_result"
    }
   ],
   "source": [
    "samples_untouched.isnull().sum()"
   ]
  },
  {
   "cell_type": "markdown",
   "metadata": {},
   "source": [
    "**Finding 2**: There are significantly more negative samples than positive samples."
   ]
  },
  {
   "cell_type": "code",
   "execution_count": 129,
   "metadata": {},
   "outputs": [
    {
     "name": "stdout",
     "output_type": "stream",
     "text": [
      "Number of negative samples: 284315\n",
      "Number of positive samples: 492\n"
     ]
    }
   ],
   "source": [
    "print(f'Number of negative samples: {Counter(labels_untouched)[0]}\\nNumber of positive samples: {Counter(labels_untouched)[1]}')"
   ]
  },
  {
   "cell_type": "markdown",
   "metadata": {},
   "source": [
    "## 2.3 Oversampling via SMOTE (unused)"
   ]
  },
  {
   "cell_type": "code",
   "execution_count": 12,
   "metadata": {},
   "outputs": [
    {
     "name": "stdout",
     "output_type": "stream",
     "text": [
      "Number of negative samples: 227454\n",
      "Number of positive samples: 6823\n"
     ]
    }
   ],
   "source": [
    "sm = SMOTE(random_state=42, n_jobs=-1, sampling_strategy=0.03)\n",
    "X_train, y_train = sm.fit_resample(X_train, y_train)\n",
    "print(f'Number of negative samples: {Counter(y_train)[0]}\\nNumber of positive samples: {Counter(y_train)[1]}')"
   ]
  },
  {
   "cell_type": "markdown",
   "metadata": {},
   "source": [
    "## 2.4 Undersampling (unused)"
   ]
  },
  {
   "cell_type": "code",
   "execution_count": 68,
   "metadata": {},
   "outputs": [
    {
     "name": "stdout",
     "output_type": "stream",
     "text": [
      "Number of negative samples: 14215\n",
      "Number of positive samples: 14215\n"
     ]
    }
   ],
   "source": [
    "us = NearMiss()\n",
    "X_train, y_train = us.fit_resample(X_train, y_train)\n",
    "print(f'Number of negative samples: {Counter(y_train)[0]}\\nNumber of positive samples: {Counter(y_train)[1]}')"
   ]
  },
  {
   "cell_type": "markdown",
   "metadata": {},
   "source": [
    "## 2.5 Outlier removal (unused)"
   ]
  },
  {
   "cell_type": "code",
   "execution_count": 119,
   "metadata": {},
   "outputs": [],
   "source": [
    "isof = IsolationForest(contamination=0.04, n_jobs=-1, random_state=42)\n",
    "y_pred = isof.fit_predict(neg_samples)\n",
    "non_outlier_mask = y_pred != -1"
   ]
  },
  {
   "cell_type": "code",
   "execution_count": 120,
   "metadata": {},
   "outputs": [
    {
     "name": "stdout",
     "output_type": "stream",
     "text": [
      "218355\n"
     ]
    }
   ],
   "source": [
    "neg_samples = neg_samples[non_outlier_mask]\n",
    "print(neg_samples.shape[0])"
   ]
  },
  {
   "cell_type": "code",
   "execution_count": 121,
   "metadata": {},
   "outputs": [],
   "source": [
    "X_train = pd.concat([neg_samples, pos_samples])\n",
    "X_train.reset_index(drop=True, inplace=True)\n",
    "y_train = X_train['Class'].ravel()\n",
    "X_train.drop(columns=['Class'], inplace=True)"
   ]
  },
  {
   "cell_type": "markdown",
   "metadata": {},
   "source": [
    "# 3. Clustering"
   ]
  },
  {
   "cell_type": "markdown",
   "metadata": {},
   "source": [
    "## K-Means clustering"
   ]
  },
  {
   "cell_type": "markdown",
   "metadata": {},
   "source": [
    "**Note:** The given dataset is already classified, hence we could simply skip this step and instead use the domain size of the labels as the number of clusters; However, a heuristic (in this case the Elbow method) was used to find the optimal number of clusters for demonstration's sake."
   ]
  },
  {
   "cell_type": "markdown",
   "metadata": {},
   "source": [
    "### Part 1) Finding the optimal number of clusters for K-Means clustering via the Elbow method"
   ]
  },
  {
   "cell_type": "code",
   "execution_count": 18,
   "metadata": {},
   "outputs": [],
   "source": [
    "inertia_values = [] \n",
    "for i in range(1, 5): \n",
    "    kmeans_clusterer = KMeans(n_clusters = i, init = 'k-means++', random_state = 1)\n",
    "    kmeans_clusterer.fit(samples) \n",
    "    inertia_values.append(kmeans_clusterer.inertia_)"
   ]
  },
  {
   "cell_type": "code",
   "execution_count": 19,
   "metadata": {},
   "outputs": [
    {
     "data": {
      "image/png": "[encoded data removed]",
      "text/plain": [
       "<Figure size 375x225 with 1 Axes>"
      ]
     },
     "metadata": {},
     "output_type": "display_data"
    }
   ],
   "source": [
    "plt.figure(figsize=(1.25,0.75))\n",
    "plt.plot(\n",
    "    range(1, 5), inertia_values,\n",
    "    color = \"#42A5F5\",\n",
    "    linewidth = '1'\n",
    "    )\n",
    "plt.xticks(range(1,5))\n",
    "plt.xlabel('Number of clusters')\n",
    "plt.ylabel('Inertia') \n",
    "plt.show()"
   ]
  },
  {
   "cell_type": "markdown",
   "metadata": {},
   "source": [
    "The elbow occured at $k = 2$, hence 2 is the optimal number of clusters (which is in agreement with number of classes)."
   ]
  },
  {
   "cell_type": "markdown",
   "metadata": {},
   "source": [
    "### Part 2) Designating clusters"
   ]
  },
  {
   "cell_type": "code",
   "execution_count": 139,
   "metadata": {},
   "outputs": [
    {
     "data": {
      "text/html": [
       "<style>#sk-container-id-10 {color: black;}#sk-container-id-10 pre{padding: 0;}#sk-container-id-10 div.sk-toggleable {background-color: white;}#sk-container-id-10 label.sk-toggleable__label {cursor: pointer;display: block;width: 100%;margin-bottom: 0;padding: 0.3em;box-sizing: border-box;text-align: center;}#sk-container-id-10 label.sk-toggleable__label-arrow:before {content: \"▸\";float: left;margin-right: 0.25em;color: #696969;}#sk-container-id-10 label.sk-toggleable__label-arrow:hover:before {color: black;}#sk-container-id-10 div.sk-estimator:hover label.sk-toggleable__label-arrow:before {color: black;}#sk-container-id-10 div.sk-toggleable__content {max-height: 0;max-width: 0;overflow: hidden;text-align: left;background-color: #f0f8ff;}#sk-container-id-10 div.sk-toggleable__content pre {margin: 0.2em;color: black;border-radius: 0.25em;background-color: #f0f8ff;}#sk-container-id-10 input.sk-toggleable__control:checked~div.sk-toggleable__content {max-height: 200px;max-width: 100%;overflow: auto;}#sk-container-id-10 input.sk-toggleable__control:checked~label.sk-toggleable__label-arrow:before {content: \"▾\";}#sk-container-id-10 div.sk-estimator input.sk-toggleable__control:checked~label.sk-toggleable__label {background-color: #d4ebff;}#sk-container-id-10 div.sk-label input.sk-toggleable__control:checked~label.sk-toggleable__label {background-color: #d4ebff;}#sk-container-id-10 input.sk-hidden--visually {border: 0;clip: rect(1px 1px 1px 1px);clip: rect(1px, 1px, 1px, 1px);height: 1px;margin: -1px;overflow: hidden;padding: 0;position: absolute;width: 1px;}#sk-container-id-10 div.sk-estimator {font-family: monospace;background-color: #f0f8ff;border: 1px dotted black;border-radius: 0.25em;box-sizing: border-box;margin-bottom: 0.5em;}#sk-container-id-10 div.sk-estimator:hover {background-color: #d4ebff;}#sk-container-id-10 div.sk-parallel-item::after {content: \"\";width: 100%;border-bottom: 1px solid gray;flex-grow: 1;}#sk-container-id-10 div.sk-label:hover label.sk-toggleable__label {background-color: #d4ebff;}#sk-container-id-10 div.sk-serial::before {content: \"\";position: absolute;border-left: 1px solid gray;box-sizing: border-box;top: 0;bottom: 0;left: 50%;z-index: 0;}#sk-container-id-10 div.sk-serial {display: flex;flex-direction: column;align-items: center;background-color: white;padding-right: 0.2em;padding-left: 0.2em;position: relative;}#sk-container-id-10 div.sk-item {position: relative;z-index: 1;}#sk-container-id-10 div.sk-parallel {display: flex;align-items: stretch;justify-content: center;background-color: white;position: relative;}#sk-container-id-10 div.sk-item::before, #sk-container-id-10 div.sk-parallel-item::before {content: \"\";position: absolute;border-left: 1px solid gray;box-sizing: border-box;top: 0;bottom: 0;left: 50%;z-index: -1;}#sk-container-id-10 div.sk-parallel-item {display: flex;flex-direction: column;z-index: 1;position: relative;background-color: white;}#sk-container-id-10 div.sk-parallel-item:first-child::after {align-self: flex-end;width: 50%;}#sk-container-id-10 div.sk-parallel-item:last-child::after {align-self: flex-start;width: 50%;}#sk-container-id-10 div.sk-parallel-item:only-child::after {width: 0;}#sk-container-id-10 div.sk-dashed-wrapped {border: 1px dashed gray;margin: 0 0.4em 0.5em 0.4em;box-sizing: border-box;padding-bottom: 0.4em;background-color: white;}#sk-container-id-10 div.sk-label label {font-family: monospace;font-weight: bold;display: inline-block;line-height: 1.2em;}#sk-container-id-10 div.sk-label-container {text-align: center;}#sk-container-id-10 div.sk-container {/* jupyter's `normalize.less` sets `[hidden] { display: none; }` but bootstrap.min.css set `[hidden] { display: none !important; }` so we also need the `!important` here to be able to override the default hidden behavior on the sphinx rendered scikit-learn.org. See: https://github.com/scikit-learn/scikit-learn/issues/21755 */display: inline-block !important;position: relative;}#sk-container-id-10 div.sk-text-repr-fallback {display: none;}</style><div id=\"sk-container-id-10\" class=\"sk-top-container\"><div class=\"sk-text-repr-fallback\"><pre>KMeans(n_clusters=2, n_init=&#x27;auto&#x27;, random_state=1)</pre><b>In a Jupyter environment, please rerun this cell to show the HTML representation or trust the notebook. <br />On GitHub, the HTML representation is unable to render, please try loading this page with nbviewer.org.</b></div><div class=\"sk-container\" hidden><div class=\"sk-item\"><div class=\"sk-estimator sk-toggleable\"><input class=\"sk-toggleable__control sk-hidden--visually\" id=\"sk-estimator-id-10\" type=\"checkbox\" checked><label for=\"sk-estimator-id-10\" class=\"sk-toggleable__label sk-toggleable__label-arrow\">KMeans</label><div class=\"sk-toggleable__content\"><pre>KMeans(n_clusters=2, n_init=&#x27;auto&#x27;, random_state=1)</pre></div></div></div></div></div>"
      ],
      "text/plain": [
       "KMeans(n_clusters=2, n_init='auto', random_state=1)"
      ]
     },
     "execution_count": 139,
     "metadata": {},
     "output_type": "execute_result"
    }
   ],
   "source": [
    "kmeans_clusterer = KMeans(n_clusters = 2, init = 'k-means++', n_init='auto', random_state = 1)\n",
    "kmeans_clusterer.fit(samples_untouched)"
   ]
  },
  {
   "cell_type": "code",
   "execution_count": 140,
   "metadata": {},
   "outputs": [],
   "source": [
    "sample_cluster_mask = kmeans_clusterer.labels_"
   ]
  },
  {
   "cell_type": "markdown",
   "metadata": {},
   "source": [
    "### Part 3) Measuring cluster purity"
   ]
  },
  {
   "cell_type": "markdown",
   "metadata": {},
   "source": [
    "#### Overview"
   ]
  },
  {
   "cell_type": "markdown",
   "metadata": {},
   "source": [
    "In order to measure clustering quality, we can use a metric known as \"Cluster Purity\".\n",
    "\n",
    "In order to calculate cluster purity, we can first compute a confusion matrix to get the distribution of each class within each cluster, and then use a secondary function to calculate purity via the confusion matrix.\n",
    "\n",
    "Since the cluster size and class domain size were both equal and a one-to-one correspondence is possible between clusters and classes, it is also helpful to visualize the confusion matrix (this would have been less helpful, for example, had we had 3 clusters but only 2 classes).\n",
    "\n",
    "Sources for snippets of code used:\n",
    "1. [Confusion matrix visualization](https://medium.com/@dtuk81/confusion-matrix-visualization-fc31e3f30fea)\n",
    "2. [Calculation of purity from confusion matrix](https://stackoverflow.com/a/51672699)\n",
    "    - [Information needed to correct above snippet](https://stats.stackexchange.com/questions/95731/how-to-calculate-purity)"
   ]
  },
  {
   "cell_type": "markdown",
   "metadata": {},
   "source": [
    "#### Confusion matrix calculation and heatmap"
   ]
  },
  {
   "cell_type": "code",
   "execution_count": 141,
   "metadata": {},
   "outputs": [
    {
     "data": {
      "text/plain": [
       "<Axes: >"
      ]
     },
     "execution_count": 141,
     "metadata": {},
     "output_type": "execute_result"
    },
    {
     "data": {
      "image/png": "[encoded data removed]",
      "text/plain": [
       "<Figure size 600x600 with 2 Axes>"
      ]
     },
     "metadata": {},
     "output_type": "display_data"
    }
   ],
   "source": [
    "cf_matrix = metrics.cluster.contingency_matrix(labels_true=labels_untouched, labels_pred=sample_cluster_mask)\n",
    "plt.figure(figsize=(2,2))\n",
    "group_names = ['TN','FP','FN','TP']\n",
    "group_counts = ['{0:0.0f}'.format(value) for value in cf_matrix.flatten()]\n",
    "group_percentages = ['{0:.2%}'.format(value) for value in cf_matrix.flatten()/np.sum(cf_matrix)]\n",
    "labels_cf = [f'{v1}\\n{v2}\\n{v3}' for v1, v2, v3 in zip(group_names,group_counts,group_percentages)]\n",
    "labels_cf = np.asarray(labels_cf).reshape(2,2)\n",
    "sns.heatmap(cf_matrix, annot=labels_cf, fmt='', cmap='Blues')"
   ]
  },
  {
   "cell_type": "markdown",
   "metadata": {},
   "source": [
    "#### Cluster purity computation"
   ]
  },
  {
   "cell_type": "code",
   "execution_count": 142,
   "metadata": {},
   "outputs": [],
   "source": [
    "def purity_score(cf_matrix):\n",
    "    return np.sum(np.max(cf_matrix, axis=1)) / np.sum(cf_matrix)"
   ]
  },
  {
   "cell_type": "code",
   "execution_count": 143,
   "metadata": {},
   "outputs": [
    {
     "name": "stdout",
     "output_type": "stream",
     "text": [
      "Clustering purity: 0.5360050841447015\n"
     ]
    }
   ],
   "source": [
    "print(f'Clustering purity: {purity_score(cf_matrix)}')"
   ]
  },
  {
   "cell_type": "markdown",
   "metadata": {},
   "source": [
    "#### Conclusion"
   ]
  },
  {
   "cell_type": "markdown",
   "metadata": {},
   "source": [
    "As evident by both the results of the confusion matrix and the purity score, the clustering performance was very poor and barely better than randomized\n",
    "clustering.\n",
    "\n",
    "This can be attributed to two possible causes:\n",
    "1. K-means performs worse when dealing with high dimensional data. This is due to the fact that the most typical implementation uses the Euclidean distance metric, which is not very well suited when comparing samples with a large number of features.\n",
    "2. K-means clustering struggles to make meaningful clusters when the density of the \"real\" clusters is highly variable."
   ]
  },
  {
   "cell_type": "markdown",
   "metadata": {},
   "source": [
    "# 4. Classification"
   ]
  },
  {
   "cell_type": "markdown",
   "metadata": {},
   "source": [
    "#### Overview"
   ]
  },
  {
   "cell_type": "markdown",
   "metadata": {},
   "source": [
    "The estimator used for the classifications was an SVM classifier, whose hyperparameters were optimized using a parameter grid search. \n",
    "\n",
    "Since SVM classifiers are sensitive to the magnitude of the data, the features were first scaled to $(-1,1)$."
   ]
  },
  {
   "cell_type": "markdown",
   "metadata": {},
   "source": [
    "## 4.1 Preprocessing"
   ]
  },
  {
   "cell_type": "markdown",
   "metadata": {},
   "source": [
    "## 4.2 Training the classifier"
   ]
  },
  {
   "cell_type": "code",
   "execution_count": 7,
   "metadata": {},
   "outputs": [
    {
     "name": "stdout",
     "output_type": "stream",
     "text": [
      "0.9481301149901586\n",
      "{'C': 10, 'gamma': 0.1, 'kernel': 'rbf'}\n",
      "0.9511758002693462\n",
      "{'C': 10, 'degree': 4, 'gamma': 0.1, 'kernel': 'poly'}\n"
     ]
    }
   ],
   "source": [
    "param_combinations = {'kernel':['sigmoid','rbf'],'C':[0.1, 1.0, 10], 'gamma':[0.01, 0.1, 1.0, 10.0]}\n",
    "svm_classifier = SVC()\n",
    "\n",
    "clf = GridSearchCV(estimator=svm_classifier, param_grid=param_combinations, cv=5, scoring='accuracy', n_jobs=-1)\n",
    "clf.fit(X_train, y_train)\n",
    "print(clf.best_score_)\n",
    "print(clf.best_params_)\n",
    "\n",
    "poly_param_combinations = {'kernel':['poly'], 'C':[0.1, 1.0, 10], 'gamma':[0.01, 0.1, 1.0, 10.0], 'degree':[3, 4, 5]}\n",
    "poly_svm_classifier = SVC()\n",
    "\n",
    "clf_poly = GridSearchCV(estimator=poly_svm_classifier, param_grid=poly_param_combinations, cv=5, scoring='accuracy', n_jobs=-1)\n",
    "clf_poly.fit(X_train, y_train)\n",
    "print(clf_poly.best_score_)\n",
    "print(clf_poly.best_params_)"
   ]
  },
  {
   "cell_type": "markdown",
   "metadata": {},
   "source": [
    "Based on the results above, an SVM classifier with a polynomial kernel of degree seems to perform the best."
   ]
  },
  {
   "cell_type": "markdown",
   "metadata": {},
   "source": [
    "## 4.3 Performance evaluation"
   ]
  },
  {
   "cell_type": "markdown",
   "metadata": {},
   "source": [
    "Building estimator with optimal params:"
   ]
  },
  {
   "cell_type": "code",
   "execution_count": 56,
   "metadata": {},
   "outputs": [],
   "source": [
    "opt_clf = SVC(kernel='poly', degree=4)\n",
    "opt_clf.fit(X_train, y_train)"
   ]
  },
  {
   "cell_type": "code",
   "execution_count": 53,
   "metadata": {},
   "outputs": [],
   "source": [
    "y_pred = opt_clf.predict(X_test)"
   ]
  },
  {
   "cell_type": "code",
   "execution_count": 54,
   "metadata": {},
   "outputs": [
    {
     "name": "stdout",
     "output_type": "stream",
     "text": [
      "Number of negative samples: 56877\n",
      "Number of positive samples: 85\n"
     ]
    }
   ],
   "source": [
    "print(f'Number of negative samples: {Counter(y_pred)[0]}\\nNumber of positive samples: {Counter(y_pred)[1]}')"
   ]
  },
  {
   "cell_type": "markdown",
   "metadata": {},
   "source": [
    "### Confusion Matrix"
   ]
  },
  {
   "cell_type": "code",
   "execution_count": 55,
   "metadata": {},
   "outputs": [
    {
     "data": {
      "text/plain": [
       "<Axes: >"
      ]
     },
     "execution_count": 55,
     "metadata": {},
     "output_type": "execute_result"
    },
    {
     "data": {
      "image/png": "[encoded data removed]",
      "text/plain": [
       "<Figure size 600x600 with 2 Axes>"
      ]
     },
     "metadata": {},
     "output_type": "display_data"
    }
   ],
   "source": [
    "cf_matrix = metrics.cluster.contingency_matrix(labels_true=y_test, labels_pred=y_pred)\n",
    "plt.figure(figsize=(2,2))\n",
    "group_names = ['TN','FP','FN','TP']\n",
    "group_counts = ['{0:0.0f}'.format(value) for value in cf_matrix.flatten()]\n",
    "group_percentages = ['{0:.2%}'.format(value) for value in cf_matrix.flatten()/np.sum(cf_matrix)]\n",
    "labels_cf = [f'{v1}\\n{v2}\\n{v3}' for v1, v2, v3 in zip(group_names,group_counts,group_percentages)]\n",
    "labels_cf = np.asarray(labels_cf).reshape(2,2)\n",
    "sns.heatmap(cf_matrix, annot=labels_cf, fmt='', cmap='Greens')"
   ]
  },
  {
   "cell_type": "markdown",
   "metadata": {},
   "source": [
    "### Recall/Precision Score"
   ]
  },
  {
   "cell_type": "code",
   "execution_count": 26,
   "metadata": {},
   "outputs": [
    {
     "name": "stdout",
     "output_type": "stream",
     "text": [
      "Accuracy: 0.9994908886626171\n",
      "Recall score: 0.7920792079207921\n",
      "Precision score: 0.9090909090909091\n",
      "F1-score: 0.8465608465608465\n"
     ]
    }
   ],
   "source": [
    "tp = cf_matrix[1][1]\n",
    "tn = cf_matrix[0][0]\n",
    "fp = cf_matrix[0][1]\n",
    "fn = cf_matrix[1][0]\n",
    "\n",
    "recall_score = tp/(tp+fn)\n",
    "precision_score = tp/(tp+fp)\n",
    "accuracy = (tp+tn)/(tp+tn+fn+fp)\n",
    "fone = (tp)/(tp+0.5*(fp+fn))\n",
    "\n",
    "print(f'Accuracy: {(accuracy)}\\nRecall score: {recall_score}\\nPrecision score: {precision_score}\\nF1-score: {fone}')"
   ]
  },
  {
   "cell_type": "markdown",
   "metadata": {},
   "source": [
    "### Interpretation of the metrics"
   ]
  },
  {
   "cell_type": "markdown",
   "metadata": {},
   "source": [
    "Overall, the SVM model performs relatively well, with decently high recall score and high precision score. The accuracy, albeit measured, is not a useful metric in this case because of the imbalance in the number of negative and positive samples. The model has a slightly low sensitivity reflected in its lower recall score; However, the model makes up for it with higher precision."
   ]
  },
  {
   "cell_type": "markdown",
   "metadata": {},
   "source": [
    "# 5. Conclusion"
   ]
  },
  {
   "cell_type": "markdown",
   "metadata": {},
   "source": [
    "Since our dataset had already been labeled, using supervised learning methods gives better results.\n",
    "\n",
    "For the purpose of detecting credit fraud, aside from a model that is sensitive enough, we require an estimator that has a substantially high precision score as to not flag innocent customers as frauds. The SVM classifier trained flags approximately 4 out of every 5 fradulent records and boasts a reliably high precision score of 90%, allowing the user to make more confident decisions about whether a customer has committed fraud or not."
   ]
  }
 ],
 "metadata": {
  "kernelspec": {
   "display_name": "Python 3",
   "language": "python",
   "name": "python3"
  },
  "language_info": {
   "codemirror_mode": {
    "name": "ipython",
    "version": 3
   },
   "file_extension": ".py",
   "mimetype": "text/x-python",
   "name": "python",
   "nbconvert_exporter": "python",
   "pygments_lexer": "ipython3",
   "version": "3.12.0"
  }
 },
 "nbformat": 4,
 "nbformat_minor": 2
}
